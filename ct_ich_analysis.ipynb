{
 "metadata": {
  "language_info": {
   "codemirror_mode": {
    "name": "ipython",
    "version": 3
   },
   "file_extension": ".py",
   "mimetype": "text/x-python",
   "name": "python",
   "nbconvert_exporter": "python",
   "pygments_lexer": "ipython3",
   "version": "3.7.3"
  },
  "orig_nbformat": 2,
  "kernelspec": {
   "name": "python373jvsc74a57bd03e858b1de7d36d2468595b407a3d6b14503c8ea766a83ef0f1643d341059c774",
   "display_name": "Python 3.7.3 64-bit ('base': conda)"
  }
 },
 "nbformat": 4,
 "nbformat_minor": 2,
 "cells": [
  {
   "cell_type": "code",
   "execution_count": null,
   "metadata": {},
   "outputs": [],
   "source": [
    "import matplotlib.pyplot as plt\n",
    "import statistics\n",
    "import seaborn as sns\n",
    "import pandas as pd\n",
    "import numpy as np\n",
    "from glob import glob\n",
    "import os\n",
    "import nibabel as nib"
   ]
  },
  {
   "cell_type": "code",
   "execution_count": null,
   "metadata": {},
   "outputs": [],
   "source": [
    "\n",
    "ct_path = './data/ct_scans/fold_0/*'\n",
    "directories = glob(ct_path)\n",
    "\n",
    "rows = []\n",
    "rows_alt = []\n",
    "for directory in directories:\n",
    "    dir_name = os.path.basename(directory)\n",
    "    files = glob(os.path.join(directory, '*'))\n",
    "    print(dir_name, len(files))\n",
    "    row = {'split': dir_name, 'PatientNumber': []}\n",
    "    \n",
    "    for f in files:\n",
    "        file_name = os.path.basename(f)\n",
    "        name_only = file_name.split('.')[0]\n",
    "        if name_only[0] == '0':\n",
    "            name_only = name_only[1:]\n",
    "        row['PatientNumber'].append(name_only)\n",
    "\n",
    "        row_alt = {'split': dir_name, 'PatientNumber': name_only}\n",
    "        rows_alt.append(row_alt)\n",
    "\n",
    "    rows.append(row)\n",
    "\n",
    "split_data = pd.DataFrame(rows)\n",
    "pd.set_option('display.max_colwidth', 1000)\n",
    "tex_name = './results/ct_ich_data_split.tex'\n",
    "split_data.to_latex(tex_name, index=False, escape=False)\n",
    "\n",
    "split_data = pd.DataFrame(rows_alt)\n"
   ]
  },
  {
   "cell_type": "code",
   "execution_count": null,
   "metadata": {},
   "outputs": [],
   "source": [
    "data = pd.read_csv('./data/hemorrhage_diagnosis_raw_ct.csv')\n",
    "\n",
    "name_map = {\n",
    "    'Epidural': 'EDH',\n",
    "    'Subdural': 'SDH',\n",
    "    'Intraventricular': 'IVH',\n",
    "    'Intraparenchymal': 'IPH',\n",
    "    'Subarachnoid': 'SAH',\n",
    "}\n",
    "data.rename(columns=name_map, inplace=True)\n",
    "data.head()"
   ]
  },
  {
   "cell_type": "code",
   "execution_count": null,
   "metadata": {},
   "outputs": [],
   "source": [
    "data['Total'] = data.iloc[:,2:7].sum(axis=1)\n",
    "N_slice_sick = data[data.Total > 0].shape[0]\n",
    "N_slice_healthy = data[data.Total == 0].shape[0]\n",
    "\n",
    "print(N_slice_sick, N_slice_healthy)"
   ]
  },
  {
   "cell_type": "code",
   "execution_count": null,
   "metadata": {},
   "outputs": [],
   "source": [
    "summed = data.groupby(['PatientNumber']).agg({'IVH':'sum','IPH':'sum','SAH':'sum','EDH':'sum','SDH':'sum'}).reset_index()\n",
    "summed.PatientNumber = summed.PatientNumber.astype('str')\n",
    "int_columns = summed.select_dtypes(np.number).columns\n",
    "print(int_columns)\n",
    "summed[int_columns] = summed[int_columns].clip(upper=1)\n",
    "summed.head(10)"
   ]
  },
  {
   "cell_type": "code",
   "execution_count": null,
   "metadata": {},
   "outputs": [],
   "source": [
    "N_patients = len(summed.PatientNumber.unique())\n",
    "summed['Total'] = summed.iloc[:, 1:6].sum(axis=1)\n",
    "N_sick = len(summed[summed.Total > 0])\n",
    "N_healthy = len(summed[summed.Total == 0])\n",
    "assert(N_sick + N_healthy == N_patients)\n",
    "print(f'Number of patients: {N_patients}. Affected patients: {N_sick}. Healthy patients: {N_healthy}. Ratio (sick): {(N_sick*1.0)/N_patients}. Ratio (healthy): {(N_healthy* 1.0)/N_patients}')"
   ]
  },
  {
   "cell_type": "code",
   "execution_count": null,
   "metadata": {},
   "outputs": [],
   "source": [
    "\n",
    "def barplot(data, save_path):\n",
    "    only_hemorrhages = data.iloc[:, 1:6].sum(axis=0) * 1.0\n",
    "    print(only_hemorrhages.min(), only_hemorrhages.max())\n",
    "    N_sick_in_data = len(data[data.Total > 0])\n",
    "    sns.barplot(x=(only_hemorrhages / N_sick_in_data)*100,y=only_hemorrhages.index, color='lightblue', edgecolor='k')\n",
    "    plt.xlabel('Portion of affected patients (%)')\n",
    "    plt.ylabel('ICH sub-type')\n",
    "    plt.savefig(f'{save_path}.pdf', bbox_inches='tight')\n",
    "    plt.savefig(f'{save_path}.png', bbox_inches='tight')\n",
    "    plt.show()"
   ]
  },
  {
   "cell_type": "code",
   "execution_count": null,
   "metadata": {},
   "outputs": [],
   "source": [
    "print(summed.shape, split_data.shape)\n",
    "merged = summed.merge(split_data)"
   ]
  },
  {
   "cell_type": "code",
   "execution_count": null,
   "metadata": {},
   "outputs": [],
   "source": [
    "merged.shape"
   ]
  },
  {
   "cell_type": "code",
   "execution_count": null,
   "metadata": {},
   "outputs": [],
   "source": [
    "import matplotlib\n",
    "matplotlib.rcParams['mathtext.fontset'] = 'stix'\n",
    "matplotlib.rcParams['font.family'] = 'STIXGeneral'\n",
    "\n",
    "barplot(merged[merged.split == 'train'], './results/ct_ich_train_bleeding_types')"
   ]
  },
  {
   "cell_type": "code",
   "execution_count": null,
   "metadata": {},
   "outputs": [],
   "source": [
    "barplot(merged[merged.split == 'test'], './results/ct_ich_test_bleeding_types')"
   ]
  },
  {
   "cell_type": "code",
   "execution_count": null,
   "metadata": {},
   "outputs": [],
   "source": [
    "barplot(merged[merged.split == 'validation'], './results/ct_ich_validation_bleeding_types')"
   ]
  },
  {
   "cell_type": "code",
   "execution_count": null,
   "metadata": {},
   "outputs": [],
   "source": [
    "slice_data = data.copy()\n",
    "slice_data['TotalPerSlice'] = slice_data.iloc[:, 2:7].sum(axis=1)\n",
    "ambiguous = slice_data[slice_data.TotalPerSlice > 1]\n",
    "unambiguous = slice_data[slice_data.TotalPerSlice == 1]\n",
    "\n",
    "print(f'Number of unambiguous slices: {unambiguous.shape[0]}')\n",
    "print(f'Number of ambiguous slices: {ambiguous.shape[0]}')\n",
    "print(f'Patients with ambiguous slices: {ambiguous.PatientNumber.unique()}')\n",
    "print(f'Number of patients with ambiguous slices: {len(ambiguous.PatientNumber.unique())}')\n",
    "print(f'Reduction effect: {((ambiguous.shape[0]*1.0)/(unambiguous.shape[0]))*100}%')"
   ]
  }
 ]
}